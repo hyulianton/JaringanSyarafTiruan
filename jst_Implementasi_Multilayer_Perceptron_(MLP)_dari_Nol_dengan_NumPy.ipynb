{
  "nbformat": 4,
  "nbformat_minor": 0,
  "metadata": {
    "colab": {
      "provenance": [],
      "authorship_tag": "ABX9TyMp2ryKseYoE7wIigOE0wqU",
      "include_colab_link": true
    },
    "kernelspec": {
      "name": "python3",
      "display_name": "Python 3"
    },
    "language_info": {
      "name": "python"
    }
  },
  "cells": [
    {
      "cell_type": "markdown",
      "metadata": {
        "id": "view-in-github",
        "colab_type": "text"
      },
      "source": [
        "<a href=\"https://colab.research.google.com/github/hyulianton/JaringanSyarafTiruan/blob/main/jst_Implementasi_Multilayer_Perceptron_(MLP)_dari_Nol_dengan_NumPy.ipynb\" target=\"_parent\"><img src=\"https://colab.research.google.com/assets/colab-badge.svg\" alt=\"Open In Colab\"/></a>"
      ]
    },
    {
      "cell_type": "markdown",
      "source": [
        "Ini adalah proyek implementasi Jaringan Saraf Tiruan dua lapisan (satu _hidden layer_) yang sepenuhnya menggunakan **NumPy**. Tujuannya adalah memahami bagaimana operasi matriks, _forward pass_, dan terutama _backward pass_ (Backpropagation) bekerja tanpa bantuan _framework_ otomatis seperti PyTorch atau TensorFlow.\n",
        "\n",
        "## **Bagian 0: Setup dan Mendapatkan Data**\n",
        "\n",
        "Langkah pertama, kita akan menyiapkan lingkungan dan memuat _dataset_ Iris yang terkenal untuk tugas klasifikasi tiga kelas.\n",
        "\n",
        "### **Sel 0.1: Impor Library**\n",
        "\n",
        "Kita hanya memerlukan `numpy` untuk komputasi dan `sklearn` untuk memuat data dan _preprocessing_.\n"
      ],
      "metadata": {
        "id": "hJYdDmUGhNc9"
      }
    },
    {
      "cell_type": "code",
      "execution_count": 1,
      "metadata": {
        "id": "GFrQsFLUgDpT"
      },
      "outputs": [],
      "source": [
        "import numpy as np\n",
        "from sklearn.datasets import load_iris\n",
        "from sklearn.model_selection import train_test_split\n",
        "from sklearn.preprocessing import OneHotEncoder, StandardScaler"
      ]
    },
    {
      "cell_type": "markdown",
      "source": [
        "### **Sel 0.2: Mendownload dan Memuat Dataset Iris**\n",
        "\n",
        "_Dataset_ Iris memiliki 4 fitur (panjang/lebar sepal dan petal) dan 3 kelas bunga (Setosa, Versicolor, Virginica)."
      ],
      "metadata": {
        "id": "zhwGi8s2hoBn"
      }
    },
    {
      "cell_type": "code",
      "source": [
        "# 1. Muat Dataset\n",
        "iris = load_iris()\n",
        "X = iris.data   # Fitur (4 kolom)\n",
        "y = iris.target # Label (0, 1, 2)\n",
        "\n",
        "# 2. Preprocessing Data\n",
        "# Normalisasi Fitur: Penting agar Gradien Descent bekerja dengan baik\n",
        "scaler = StandardScaler()\n",
        "X_scaled = scaler.fit_transform(X)\n",
        "\n",
        "# Encoding Label (One-Hot Encoding): Mengubah label 0, 1, 2 menjadi vektor [1,0,0], [0,1,0], [0,0,1]\n",
        "# Ini diperlukan untuk klasifikasi multi-kelas dengan Cross-Entropy Loss\n",
        "encoder = OneHotEncoder(sparse_output=False)\n",
        "y_encoded = encoder.fit_transform(y.reshape(-1, 1))\n",
        "\n",
        "# 3. Membagi Data: Pelatihan (80%) dan Pengujian (20%)\n",
        "X_train, X_test, y_train, y_test = train_test_split(\n",
        "    X_scaled, y_encoded, test_size=0.2, random_state=42\n",
        ")\n",
        "\n",
        "# Cek Dimensi Data\n",
        "print(f\"Dimensi Data Pelatihan (X_train): {X_train.shape}\") # (120, 4)\n",
        "print(f\"Dimensi Label Pelatihan (y_train): {y_train.shape}\") # (120, 3)"
      ],
      "metadata": {
        "colab": {
          "base_uri": "https://localhost:8080/"
        },
        "id": "YbYBO9PKhswh",
        "outputId": "2eef924d-285d-4685-c61c-f695ef65e0f5"
      },
      "execution_count": 2,
      "outputs": [
        {
          "output_type": "stream",
          "name": "stdout",
          "text": [
            "Dimensi Data Pelatihan (X_train): (120, 4)\n",
            "Dimensi Label Pelatihan (y_train): (120, 3)\n"
          ]
        }
      ]
    },
    {
      "cell_type": "markdown",
      "source": [
        "**Penjelasan:** _Dataset_ diproses agar siap untuk MLP: fitur distandarisasi dan label di-_encode_ menjadi format vektor (One-Hot) yang sesuai untuk _output layer_ klasifikasi.\n",
        "\n",
        "----------\n",
        "\n",
        "## **Bagian 1: Definisi Fungsi Inti**\n",
        "\n",
        "Kita harus membuat fungsi-fungsi matematis yang diperlukan oleh MLP: fungsi aktivasi, dan turunannya (untuk _backward pass_).\n",
        "\n",
        "### **Sel 1.1: Fungsi Aktivasi**\n",
        "\n",
        "Kita akan menggunakan **ReLU** untuk _hidden layer_ dan **Softmax** untuk _output layer_."
      ],
      "metadata": {
        "id": "R-CkuNeEh6t5"
      }
    },
    {
      "cell_type": "code",
      "source": [
        "def relu(Z):\n",
        "    \"\"\"Fungsi Aktivasi Rectified Linear Unit (ReLU)\"\"\"\n",
        "    return np.maximum(0, Z)\n",
        "\n",
        "def relu_derivative(Z):\n",
        "    \"\"\"Turunan ReLU (untuk Backpropagation)\"\"\"\n",
        "    return (Z > 0).astype(float)\n",
        "\n",
        "def softmax(Z):\n",
        "    \"\"\"Fungsi Aktivasi Softmax (untuk Output Klasifikasi Multi-kelas)\"\"\"\n",
        "    # Kurangi nilai Z dengan nilai maksimum untuk stabilitas numerik\n",
        "    exp_Z = np.exp(Z - np.max(Z, axis=1, keepdims=True))\n",
        "    return exp_Z / np.sum(exp_Z, axis=1, keepdims=True)"
      ],
      "metadata": {
        "id": "3i_k23kqh_lX"
      },
      "execution_count": 3,
      "outputs": []
    },
    {
      "cell_type": "markdown",
      "source": [
        "**Penjelasan:** Turunan `relu` sangat sederhana: 1 jika input positif, dan 0 jika negatif atau nol. `softmax` mengubah skor output menjadi probabilitas yang totalnya 1.\n",
        "\n",
        "### **Sel 1.2: Fungsi Rugi (Loss Function)**\n",
        "\n",
        "Untuk klasifikasi multi-kelas (Iris), kita menggunakan **Categorical Cross-Entropy Loss**."
      ],
      "metadata": {
        "id": "luUL1rtCibhU"
      }
    },
    {
      "cell_type": "code",
      "source": [
        "def cross_entropy_loss(Y_true, Y_pred):\n",
        "    \"\"\"Categorical Cross-Entropy Loss\"\"\"\n",
        "    # Jumlahkan kerugian dari setiap sampel\n",
        "    m = Y_true.shape[0]\n",
        "    # Hindari log(0)\n",
        "    Y_pred = np.clip(Y_pred, 1e-12, 1. - 1e-12)\n",
        "\n",
        "    # Rumus Cross-Entropy Loss\n",
        "    loss = -np.sum(Y_true * np.log(Y_pred)) / m\n",
        "    return loss"
      ],
      "metadata": {
        "id": "q3C5J3RFih51"
      },
      "execution_count": 4,
      "outputs": []
    },
    {
      "cell_type": "markdown",
      "source": [
        "## **Bagian 2: Inisialisasi dan Arsitektur MLP**\n",
        "\n",
        "Kita mendefinisikan arsitektur 4-H-3 (4 input, H _hidden units_, 3 output) dan menginisialisasi parameter.\n",
        "\n",
        "### **Sel 2.1: Inisialisasi Parameter (Bobot & Bias)**\n",
        "\n",
        "Kita menggunakan inisialisasi acak, yang sangat penting untuk memecah simetri."
      ],
      "metadata": {
        "id": "kKF0rRpiisr_"
      }
    },
    {
      "cell_type": "code",
      "source": [
        "# Arsitektur Jaringan\n",
        "input_size = X_train.shape[1]  # 4 fitur\n",
        "hidden_size = 10               # 10 neuron di Hidden Layer\n",
        "output_size = y_train.shape[1] # 3 kelas\n",
        "\n",
        "def initialize_parameters(input_size, hidden_size, output_size):\n",
        "    # Inisialisasi He/Kaiming (cocok untuk ReLU)\n",
        "    W1 = np.random.randn(input_size, hidden_size) * np.sqrt(2. / input_size)\n",
        "    b1 = np.zeros((1, hidden_size))\n",
        "    W2 = np.random.randn(hidden_size, output_size) * np.sqrt(2. / hidden_size)\n",
        "    b2 = np.zeros((1, output_size))\n",
        "\n",
        "    parameters = {\n",
        "        \"W1\": W1, \"b1\": b1,\n",
        "        \"W2\": W2, \"b2\": b2\n",
        "    }\n",
        "    return parameters\n",
        "\n",
        "parameters = initialize_parameters(input_size, hidden_size, output_size)\n",
        "print(\"Parameter W1 shape:\", parameters[\"W1\"].shape)\n",
        "print(\"Parameter W2 shape:\", parameters[\"W2\"].shape)"
      ],
      "metadata": {
        "colab": {
          "base_uri": "https://localhost:8080/"
        },
        "id": "bUhN8LpAixTx",
        "outputId": "aa6ab620-c773-4cf1-fb14-c09719ee5433"
      },
      "execution_count": 6,
      "outputs": [
        {
          "output_type": "stream",
          "name": "stdout",
          "text": [
            "Parameter W1 shape: (4, 10)\n",
            "Parameter W2 shape: (10, 3)\n"
          ]
        }
      ]
    },
    {
      "cell_type": "markdown",
      "source": [
        "## **Bagian 3: Forward dan Backward Pass**\n",
        "\n",
        "Ini adalah jantung dari seluruh model. Kita mendefinisikan bagaimana data mengalir (Forward) dan bagaimana gradien dihitung (Backward).\n",
        "\n",
        "### **Sel 3.1: Forward Pass (Maju ke Depan)**"
      ],
      "metadata": {
        "id": "4v9ytq_WjLiR"
      }
    },
    {
      "cell_type": "code",
      "source": [
        "def forward_pass(X, parameters):\n",
        "    W1, b1, W2, b2 = parameters[\"W1\"], parameters[\"b1\"], parameters[\"W2\"], parameters[\"b2\"]\n",
        "\n",
        "    # Lapisan 1 (Hidden Layer)\n",
        "    Z1 = X @ W1 + b1  # X @ W1 adalah Perkalian Matriks (vektorisasi)\n",
        "    A1 = relu(Z1)     # Aktivasi ReLU\n",
        "\n",
        "    # Lapisan 2 (Output Layer)\n",
        "    Z2 = A1 @ W2 + b2\n",
        "    A2 = softmax(Z2)  # Aktivasi Softmax menghasilkan Y_pred\n",
        "\n",
        "    cache = {\"Z1\": Z1, \"A1\": A1, \"Z2\": Z2, \"A2\": A2, \"X\": X}\n",
        "    return A2, cache # A2 adalah Y_pred\n"
      ],
      "metadata": {
        "id": "znHcDs5YjP8n"
      },
      "execution_count": 7,
      "outputs": []
    },
    {
      "cell_type": "markdown",
      "source": [
        "### **Sel 3.2: Backward Pass (Backpropagation)**\n",
        "\n",
        "Ini adalah bagian terumit. Kita menggunakan **Chain Rule** untuk menghitung gradien."
      ],
      "metadata": {
        "id": "yS0g76xSjhan"
      }
    },
    {
      "cell_type": "code",
      "source": [
        "def backward_pass(Y_pred, Y_true, parameters, cache):\n",
        "    m = Y_pred.shape[0]  # Jumlah sampel (Batch Size)\n",
        "\n",
        "    W1, W2 = parameters[\"W1\"], parameters[\"W2\"]\n",
        "    A1, X = cache[\"A1\"], cache[\"X\"]\n",
        "    Z1 = cache[\"Z1\"]\n",
        "\n",
        "    grads = {}\n",
        "\n",
        "    # 1. Gradien Lapisan Output (W2, b2)\n",
        "    # Gradien Loss terhadap Z2 (Sinyal Delta Delta(2))\n",
        "    # Untuk Cross-Entropy + Softmax, turunannya SANGAT sederhana:\n",
        "    dZ2 = Y_pred - Y_true # (Y_pred - Y_true)\n",
        "\n",
        "    # Gradien Bobot W2\n",
        "    grads[\"dW2\"] = (A1.T @ dZ2) / m\n",
        "    # Gradien Bias b2\n",
        "    grads[\"db2\"] = np.sum(dZ2, axis=0, keepdims=True) / m\n",
        "\n",
        "    # 2. Gradien Lapisan Tersembunyi (W1, b1)\n",
        "    # Sebarkan Sinyal Delta ke Lapisan 1\n",
        "    dA1 = dZ2 @ W2.T\n",
        "\n",
        "    # Turunan ReLU * Sinyal Delta = Sinyal Delta(1)\n",
        "    dZ1 = dA1 * relu_derivative(Z1)\n",
        "\n",
        "    # Gradien Bobot W1\n",
        "    grads[\"dW1\"] = (X.T @ dZ1) / m\n",
        "    # Gradien Bias b1\n",
        "    grads[\"db1\"] = np.sum(dZ1, axis=0, keepdims=True) / m\n",
        "\n",
        "    return grads\n"
      ],
      "metadata": {
        "id": "CmuIVylajmDE"
      },
      "execution_count": 8,
      "outputs": []
    },
    {
      "cell_type": "markdown",
      "source": [
        "**Penjelasan Backpropagation:**\n",
        "\n",
        "1.  **Output:** Turunan _Loss_ dihitung pertama. Untuk Cross-Entropy dengan Softmax, ∂Z2​∂L​ hanya sebatas `Y_pred - Y_true`.\n",
        "    \n",
        "2.  **Sebar Delta:** Sinyal kesalahan `dZ2` disebarkan ke lapisan sebelumnya menggunakan perkalian matriks dengan Bobot W2​ yang ditranspos → `dA1`.\n",
        "    \n",
        "3.  **ReLU Lokal:** `dA1` dikalikan dengan turunan fungsi aktivasi ReLU lokal → `dZ1` (Sinyal Delta Lapisan 1).\n",
        "    \n",
        "4.  **W1/b1:** Gradien W1 dan b1 dihitung menggunakan `dZ1` dan `X`.\n",
        "    \n",
        "\n",
        "----------\n",
        "\n",
        "## **Bagian 4: Pelatihan (Training Loop)**\n",
        "\n",
        "Kita menyatukan semua fungsi ke dalam Siklus Pelatihan (_Training Loop_) utama.\n",
        "\n",
        "### **Sel 4.1: Gradient Descent dan Training**\n"
      ],
      "metadata": {
        "id": "iqp0pUpWjsj0"
      }
    },
    {
      "cell_type": "code",
      "source": [
        "def train_mlp(X_train, y_train, parameters, learning_rate, epochs):\n",
        "    history = []\n",
        "\n",
        "    for epoch in range(epochs):\n",
        "        # 1. FORWARD PASS\n",
        "        Y_pred, cache = forward_pass(X_train, parameters)\n",
        "\n",
        "        # 2. HITUNG LOSS\n",
        "        loss = cross_entropy_loss(y_train, Y_pred)\n",
        "\n",
        "        # 3. BACKWARD PASS\n",
        "        grads = backward_pass(Y_pred, y_train, parameters, cache)\n",
        "\n",
        "        # 4. UPDATE PARAMETER (Gradient Descent)\n",
        "        # W_baru = W_lama - eta * Gradien\n",
        "        parameters[\"W1\"] -= learning_rate * grads[\"dW1\"]\n",
        "        parameters[\"b1\"] -= learning_rate * grads[\"db1\"]\n",
        "        parameters[\"W2\"] -= learning_rate * grads[\"dW2\"]\n",
        "        parameters[\"b2\"] -= learning_rate * grads[\"db2\"]\n",
        "\n",
        "        history.append(loss)\n",
        "\n",
        "        if epoch % 1000 == 0:\n",
        "            print(f\"Epoch {epoch}/{epochs} | Loss: {loss:.4f}\")\n",
        "\n",
        "    return parameters, history\n",
        "\n",
        "# Hyperparameters\n",
        "learning_rate = 0.1\n",
        "epochs = 10000\n",
        "\n",
        "# Jalankan Pelatihan\n",
        "trained_parameters, loss_history = train_mlp(X_train, y_train, parameters, learning_rate, epochs)\n"
      ],
      "metadata": {
        "colab": {
          "base_uri": "https://localhost:8080/"
        },
        "id": "_pxwmgF9jxCB",
        "outputId": "fd263f57-ade7-471e-f90a-81407bd9dcba"
      },
      "execution_count": 9,
      "outputs": [
        {
          "output_type": "stream",
          "name": "stdout",
          "text": [
            "Epoch 0/10000 | Loss: 1.3943\n",
            "Epoch 1000/10000 | Loss: 0.0537\n",
            "Epoch 2000/10000 | Loss: 0.0464\n",
            "Epoch 3000/10000 | Loss: 0.0439\n",
            "Epoch 4000/10000 | Loss: 0.0427\n",
            "Epoch 5000/10000 | Loss: 0.0419\n",
            "Epoch 6000/10000 | Loss: 0.0414\n",
            "Epoch 7000/10000 | Loss: 0.0411\n",
            "Epoch 8000/10000 | Loss: 0.0408\n",
            "Epoch 9000/10000 | Loss: 0.0406\n"
          ]
        }
      ]
    },
    {
      "cell_type": "markdown",
      "source": [
        "### **Sel 4.2: Evaluasi Model**\n",
        "\n",
        "Setelah pelatihan, kita hitung akurasi pada data uji.\n"
      ],
      "metadata": {
        "id": "ith2KA5SkKZx"
      }
    },
    {
      "cell_type": "code",
      "source": [
        "def evaluate(X, y_true, parameters):\n",
        "    # Lakukan Forward Pass pada data\n",
        "    Y_pred_prob, _ = forward_pass(X, parameters)\n",
        "\n",
        "    # Konversi probabilitas (Y_pred_prob) ke label kelas (indeks dengan probabilitas tertinggi)\n",
        "    y_pred_labels = np.argmax(Y_pred_prob, axis=1)\n",
        "    y_true_labels = np.argmax(y_true, axis=1) # y_true juga perlu dikonversi dari One-Hot\n",
        "\n",
        "    # Hitung Akurasi\n",
        "    accuracy = np.mean(y_pred_labels == y_true_labels)\n",
        "    return accuracy\n",
        "\n",
        "# Evaluasi pada Data Uji\n",
        "accuracy = evaluate(X_test, y_test, trained_parameters)\n",
        "print(f\"\\n--- HASIL AKHIR ---\")\n",
        "print(f\"Akurasi Model pada Data Uji: {accuracy*100:.2f}%\")\n"
      ],
      "metadata": {
        "colab": {
          "base_uri": "https://localhost:8080/"
        },
        "id": "ecjvTfJakOs6",
        "outputId": "921cfc06-232d-48ee-d356-e4664f5d2973"
      },
      "execution_count": 10,
      "outputs": [
        {
          "output_type": "stream",
          "name": "stdout",
          "text": [
            "\n",
            "--- HASIL AKHIR ---\n",
            "Akurasi Model pada Data Uji: 96.67%\n"
          ]
        }
      ]
    },
    {
      "cell_type": "markdown",
      "source": [
        "## **Kesimpulan dan Tindak Lanjut**\n",
        "\n",
        "Anda telah berhasil mengimplementasikan seluruh siklus pelatihan MLP 2-lapisan menggunakan NumPy. Hasil akurasi yang tinggi (sekitar 90-100% untuk Iris) menunjukkan bahwa **Backpropagation Anda bekerja dengan benar**.\n",
        "\n",
        "**Tantangan Selanjutnya:**\n",
        "\n",
        "1.  **Plot Loss:** Visualisasikan `loss_history` untuk melihat konvergensi.\n",
        "    \n",
        "2.  **Gradient Checking:** Tambahkan implementasi _Gradient Checking_ untuk memverifikasi `backward_pass` Anda.\n",
        "    \n",
        "3.  **Regulasi:** Tambahkan L2 Regularization pada _Loss_ dan _Backward Pass_ untuk mengontrol _overfitting_.\n"
      ],
      "metadata": {
        "id": "gbPuztWNkYxh"
      }
    }
  ]
}