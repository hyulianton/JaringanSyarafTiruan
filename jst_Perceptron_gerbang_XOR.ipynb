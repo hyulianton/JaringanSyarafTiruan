{
  "nbformat": 4,
  "nbformat_minor": 0,
  "metadata": {
    "colab": {
      "provenance": [],
      "authorship_tag": "ABX9TyO8HeMC64lADQ0O2s94kIPl",
      "include_colab_link": true
    },
    "kernelspec": {
      "name": "python3",
      "display_name": "Python 3"
    },
    "language_info": {
      "name": "python"
    }
  },
  "cells": [
    {
      "cell_type": "markdown",
      "metadata": {
        "id": "view-in-github",
        "colab_type": "text"
      },
      "source": [
        "<a href=\"https://colab.research.google.com/github/hyulianton/JaringanSyarafTiruan/blob/main/jst_Perceptron_gerbang_XOR.ipynb\" target=\"_parent\"><img src=\"https://colab.research.google.com/assets/colab-badge.svg\" alt=\"Open In Colab\"/></a>"
      ]
    },
    {
      "cell_type": "markdown",
      "source": [
        "### 1. Import Library dan Definisi Kelas Perceptron\n",
        "Sel ini berisi kode untuk mengimpor library yang diperlukan dan mendefinisikan ulang kelas Perceptron. Modifikasi utama ada pada metode fit() untuk mendeteksi kapan model berhenti belajar."
      ],
      "metadata": {
        "id": "h6u2R7V-lV2s"
      }
    },
    {
      "cell_type": "code",
      "execution_count": 4,
      "metadata": {
        "id": "CM25AmnxlNtW"
      },
      "outputs": [],
      "source": [
        "# Sel 1: Import library dan definisi kelas Perceptron\n",
        "import numpy as np\n",
        "# Mengimpor NumPy untuk operasi array, fundamental untuk komputasi numerik.\n",
        "import matplotlib.pyplot as plt\n",
        "# Mengimpor Matplotlib untuk membuat plot dan visualisasi.\n",
        "\n",
        "class Perceptron:\n",
        "    \"\"\"\n",
        "    Kelas yang mengimplementasikan algoritma Perceptron dengan penambahan logika konvergensi.\n",
        "    \"\"\"\n",
        "    def __init__(self, learning_rate=0.1, n_iterations=100):\n",
        "        # Konstruktor kelas.\n",
        "        self.learning_rate = learning_rate\n",
        "        # learning_rate (alpha): Kontrol seberapa cepat model belajar.\n",
        "        self.n_iterations = n_iterations\n",
        "        # n_iterations: Jumlah siklus pelatihan maksimum.\n",
        "        self.weights = None\n",
        "        # Bobot (weights): Parameter yang akan dipelajari untuk setiap fitur.\n",
        "        self.bias = None\n",
        "        # Bias: Parameter tambahan yang digabungkan ke output untuk membantu penyesuaian batas keputusan.\n",
        "\n",
        "    def _step_function(self, x):\n",
        "        # Fungsi aktivasi step atau fungsi Heaviside.\n",
        "        # Mengembalikan 1 jika input lebih besar atau sama dengan nol, dan 0 sebaliknya.\n",
        "        return 1 if x >= 0 else 0\n",
        "\n",
        "    def fit(self, X, y):\n",
        "        # Metode untuk melatih model Perceptron dengan fitur deteksi konvergensi.\n",
        "        n_samples, n_features = X.shape\n",
        "        # Mendapatkan jumlah sampel dan fitur dari data.\n",
        "        self.weights = np.zeros(n_features)\n",
        "        # Menginisialisasi bobot dengan array nol.\n",
        "        self.bias = 0\n",
        "        # Menginisialisasi bias dengan nilai nol.\n",
        "\n",
        "        for iteration in range(self.n_iterations):\n",
        "            # Loop utama untuk melatih model.\n",
        "            error_count = 0\n",
        "            # Penghitung kesalahan untuk setiap iterasi. Akan di-reset di awal setiap iterasi.\n",
        "            for idx, x_i in enumerate(X):\n",
        "                # Iterasi melalui setiap sampel dalam dataset.\n",
        "                linear_output = np.dot(x_i, self.weights) + self.bias\n",
        "                # Menghitung output linear: (input . bobot) + bias.\n",
        "                y_predicted = self._step_function(linear_output)\n",
        "                # Menerapkan fungsi step untuk mendapatkan prediksi biner.\n",
        "\n",
        "                error = y[idx] - y_predicted\n",
        "                # Menghitung error: target dikurangi prediksi.\n",
        "\n",
        "                if error != 0:\n",
        "                    # Jika terjadi kesalahan prediksi, lakukan pembaruan bobot dan bias.\n",
        "                    error_count += 1\n",
        "                    # Menambah hitungan kesalahan.\n",
        "                    update = self.learning_rate * error\n",
        "                    # Menghitung besaran pembaruan.\n",
        "                    self.weights += update * x_i\n",
        "                    # Memperbarui bobot.\n",
        "                    self.bias += update\n",
        "                    # Memperbarui bias.\n",
        "\n",
        "            if error_count == 0:\n",
        "                # Jika tidak ada kesalahan dalam satu iterasi penuh, model telah konvergen.\n",
        "                print(f\"Konvergen pada iterasi ke-{iteration+1}\")\n",
        "                break\n",
        "                # Keluar dari loop pelatihan karena solusi telah ditemukan.\n",
        "        print(\"Pelatihan selesai.\")\n",
        "        # Pesan konfirmasi setelah loop selesai.\n",
        "\n",
        "    def predict(self, X):\n",
        "        # Metode untuk membuat prediksi.\n",
        "        linear_output = np.dot(X, self.weights) + self.bias\n",
        "        # Menghitung output linear.\n",
        "        return np.array([self._step_function(output) for output in linear_output])\n",
        "        # Menerapkan fungsi step pada output linear untuk menghasilkan prediksi akhir."
      ]
    },
    {
      "cell_type": "markdown",
      "source": [
        "### 2. Persiapan Data XOR dan Pelatihan\n",
        "Sel ini menyiapkan data yang tidak dapat dipisahkan secara linier, yaitu data untuk gerbang XOR. Kemudian, kita akan melatih model Perceptron pada data ini dan melihat hasilnya."
      ],
      "metadata": {
        "id": "KuAs5edAlcx-"
      }
    },
    {
      "cell_type": "code",
      "source": [
        "# Sel 2: Persiapan data XOR dan pelatihan\n",
        "# Dataset XOR yang tidak dapat dipisahkan secara linier\n",
        "X_xor = np.array([[0, 0], [0, 1], [1, 0], [1, 1]])\n",
        "# Input untuk gerbang XOR.\n",
        "y_xor = np.array([0, 1, 1, 0])\n",
        "# Output yang sesuai. Perhatikan bahwa input [0, 0] dan [1, 1] memiliki output yang sama (0),\n",
        "# dan input [0, 1] dan [1, 0] memiliki output yang sama (1).\n",
        "\n",
        "# Latih model Perceptron pada data XOR\n",
        "p_xor = Perceptron(learning_rate=0.1, n_iterations=1000)\n",
        "# Membuat instance Perceptron baru.\n",
        "print(\"Mencoba melatih Perceptron pada data XOR...\")\n",
        "p_xor.fit(X_xor, y_xor)\n",
        "# Memulai pelatihan. Anda akan melihat model tidak akan pernah konvergen."
      ],
      "metadata": {
        "colab": {
          "base_uri": "https://localhost:8080/"
        },
        "id": "8WPewiErlhLZ",
        "outputId": "6b104fc7-bd2f-4bbd-f0f3-469abdc81971"
      },
      "execution_count": 5,
      "outputs": [
        {
          "output_type": "stream",
          "name": "stdout",
          "text": [
            "Mencoba melatih Perceptron pada data XOR...\n",
            "Pelatihan selesai.\n"
          ]
        }
      ]
    },
    {
      "cell_type": "markdown",
      "source": [
        "### 3. Verifikasi dan Visualisasi Hasil\n",
        "Pada sel ini, kita akan mencetak bobot dan bias akhir, memverifikasi prediksi model, dan memvisualisasikan data bersama dengan \"batas keputusan\" yang gagal."
      ],
      "metadata": {
        "id": "rt7GibTilkie"
      }
    },
    {
      "cell_type": "code",
      "source": [
        "# Sel 3: Verifikasi dan visualisasi hasil\n",
        "# Cetak hasil akhir\n",
        "print(\"\\n--- Hasil Akhir ---\")\n",
        "print(f\"Bobot akhir: {p_xor.weights}\")\n",
        "print(f\"Bias akhir: {p_xor.bias}\")\n",
        "print(\"\\nVerifikasi hasil prediksi:\")\n",
        "for input_data, true_output in zip(X_xor, y_xor):\n",
        "    # Menggunakan np.array([input_data]) untuk memastikan dimensi yang benar.\n",
        "    prediction = p_xor.predict(np.array([input_data]))\n",
        "    print(f\"Input: {input_data}, Seharusnya: {true_output}, Prediksi: {prediction[0]}\")\n",
        "\n",
        "# Plot data dan \"batas\" yang tidak bisa memisahkan\n",
        "plt.style.use('ggplot')\n",
        "plt.figure(figsize=(8, 6))\n",
        "\n",
        "# Plot data poin\n",
        "plt.scatter(X_xor[y_xor == 1, 0], X_xor[y_xor == 1, 1], color='blue', marker='o', label='Kelas 1')\n",
        "# Memplot titik-titik (0, 1) dan (1, 0).\n",
        "plt.scatter(X_xor[y_xor == 0, 0], X_xor[y_xor == 0, 1], color='red', marker='x', label='Kelas 0')\n",
        "# Memplot titik-titik (0, 0) dan (1, 1).\n",
        "# Secara visual, Anda tidak bisa menggambar satu garis lurus untuk memisahkan kedua kelas ini.\n",
        "\n",
        "# Hitung dan plot batas keputusan yang tidak konvergen\n",
        "x_vals = np.linspace(-0.5, 1.5, 100)\n",
        "# Menghasilkan 100 nilai x untuk plot garis.\n",
        "if p_xor.weights[1] != 0:\n",
        "    y_vals = (-p_xor.weights[0] * x_vals - p_xor.bias) / p_xor.weights[1]\n",
        "    # Menghitung nilai y berdasarkan persamaan garis yang dibentuk oleh bobot dan bias.\n",
        "    plt.plot(x_vals, y_vals, 'k--', label='Batas yang Tidak Dapat Memisahkan')\n",
        "    # Memplot garis putus-putus. Garis ini akan terus berosilasi karena model tidak pernah konvergen.\n",
        "\n",
        "plt.title('Keterbatasan Perceptron pada Gerbang XOR')\n",
        "plt.xlabel('Input 1')\n",
        "plt.ylabel('Input 2')\n",
        "plt.legend()\n",
        "plt.grid(True)\n",
        "plt.show()"
      ],
      "metadata": {
        "colab": {
          "base_uri": "https://localhost:8080/",
          "height": 743
        },
        "id": "gA1j0ZJ-loHl",
        "outputId": "3d685358-d00a-4cfa-8ef8-42068f4fe9c0"
      },
      "execution_count": 6,
      "outputs": [
        {
          "output_type": "stream",
          "name": "stdout",
          "text": [
            "\n",
            "--- Hasil Akhir ---\n",
            "Bobot akhir: [-0.1  0. ]\n",
            "Bias akhir: 0.0\n",
            "\n",
            "Verifikasi hasil prediksi:\n",
            "Input: [0 0], Seharusnya: 0, Prediksi: 1\n",
            "Input: [0 1], Seharusnya: 1, Prediksi: 1\n",
            "Input: [1 0], Seharusnya: 1, Prediksi: 0\n",
            "Input: [1 1], Seharusnya: 0, Prediksi: 0\n"
          ]
        },
        {
          "output_type": "display_data",
          "data": {
            "text/plain": [
              "<Figure size 800x600 with 1 Axes>"
            ],
            "image/png": "[encoded data removed]"
          },
          "metadata": {}
        }
      ]
    },
    {
      "cell_type": "markdown",
      "source": [
        "Visualisasi ini secara jelas menunjukkan mengapa Perceptron tidak dapat menyelesaikan masalah XOR. Model ini mencoba menggambar garis lurus untuk memisahkan titik-titik data, tetapi karena titik-titik tersebut tidak dapat dipisahkan secara linier, algoritma terus menyesuaikan bobotnya tanpa pernah menemukan solusi yang sempurna."
      ],
      "metadata": {
        "id": "bER8QDnulsPS"
      }
    }
  ]
}