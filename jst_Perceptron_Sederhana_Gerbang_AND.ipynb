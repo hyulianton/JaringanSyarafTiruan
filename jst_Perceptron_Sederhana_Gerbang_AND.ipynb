{
  "nbformat": 4,
  "nbformat_minor": 0,
  "metadata": {
    "colab": {
      "provenance": [],
      "authorship_tag": "ABX9TyNyKzIvMwHDhnAcdVncoPDO",
      "include_colab_link": true
    },
    "kernelspec": {
      "name": "python3",
      "display_name": "Python 3"
    },
    "language_info": {
      "name": "python"
    }
  },
  "cells": [
    {
      "cell_type": "markdown",
      "metadata": {
        "id": "view-in-github",
        "colab_type": "text"
      },
      "source": [
        "<a href=\"https://colab.research.google.com/github/hyulianton/JaringanSyarafTiruan/blob/main/jst_Perceptron_Sederhana_Gerbang_AND.ipynb\" target=\"_parent\"><img src=\"https://colab.research.google.com/assets/colab-badge.svg\" alt=\"Open In Colab\"/></a>"
      ]
    },
    {
      "cell_type": "markdown",
      "source": [
        "### 1. Import Library dan Definisi Kelas Perceptron\n",
        "Cell pertama ini berisi kode untuk mengimpor library numpy dan mendefinisikan kelas Perceptron."
      ],
      "metadata": {
        "id": "XwxCuzVTirh4"
      }
    },
    {
      "cell_type": "code",
      "execution_count": null,
      "metadata": {
        "id": "deu0_XeDigPR"
      },
      "outputs": [],
      "source": [
        "# Cell 1: Import library dan definisi kelas Perceptron\n",
        "import numpy as np\n",
        "# Mengimpor library NumPy, yang penting untuk operasi array numerik.\n",
        "\n",
        "class Perceptron:\n",
        "    \"\"\"\n",
        "    Kelas Perceptron mengimplementasikan algoritma single-layer Perceptron.\n",
        "    \"\"\"\n",
        "    def __init__(self, learning_rate=0.01, n_iterations=100):\n",
        "        # Metode __init__ adalah konstruktor kelas.\n",
        "        # learning_rate (alpha): Menentukan seberapa besar bobot disesuaikan setiap iterasi.\n",
        "        # n_iterations: Jumlah kali seluruh dataset akan dilewati untuk melatih model.\n",
        "        self.learning_rate = learning_rate\n",
        "        self.n_iterations = n_iterations\n",
        "        self.weights = None\n",
        "        self.bias = None\n",
        "        # Menginisialisasi bobot (weights) dan bias menjadi None.\n",
        "        # Mereka akan diinisialisasi dengan nol saat metode fit() dipanggil.\n",
        "\n",
        "    def _step_function(self, x):\n",
        "        # Fungsi aktivasi step. Ini adalah fungsi aktivasi sederhana untuk Perceptron.\n",
        "        # Mengembalikan 1 jika input (x) lebih besar atau sama dengan 0, dan 0 jika sebaliknya.\n",
        "        return 1 if x >= 0 else 0\n",
        "\n",
        "    def fit(self, X, y):\n",
        "        # Metode fit() digunakan untuk melatih model Perceptron.\n",
        "        # X: Matriks data input, di mana setiap baris adalah satu sampel.\n",
        "        # y: Vektor label atau output yang sebenarnya.\n",
        "        n_samples, n_features = X.shape\n",
        "        # Mendapatkan jumlah sampel (baris) dan jumlah fitur (kolom) dari data input.\n",
        "\n",
        "        self.weights = np.zeros(n_features)\n",
        "        # Menginisialisasi bobot (weights) dengan array nol yang ukurannya sama dengan jumlah fitur.\n",
        "        self.bias = 0\n",
        "        # Menginisialisasi bias dengan nilai nol.\n",
        "\n",
        "        for _ in range(self.n_iterations):\n",
        "            # Melakukan loop sejumlah n_iterations untuk melatih model.\n",
        "            for idx, x_i in enumerate(X):\n",
        "                # Iterasi melalui setiap sampel dalam dataset.\n",
        "                linear_output = np.dot(x_i, self.weights) + self.bias\n",
        "                # Menghitung output linear: (input * bobot) + bias.\n",
        "                y_predicted = self._step_function(linear_output)\n",
        "                # Menerapkan fungsi aktivasi step untuk mendapatkan prediksi.\n",
        "\n",
        "                update = self.learning_rate * (y[idx] - y_predicted)\n",
        "                # Menghitung pembaruan bobot berdasarkan error (selisih antara output sebenarnya dan prediksi).\n",
        "                self.weights += update * x_i\n",
        "                # Memperbarui bobot dengan nilai update yang dikalikan dengan input.\n",
        "                self.bias += update\n",
        "                # Memperbarui bias dengan nilai update.\n",
        "\n",
        "    def predict(self, X):\n",
        "        # Metode predict() digunakan untuk membuat prediksi setelah model dilatih.\n",
        "        # X: Matriks data input yang akan diprediksi.\n",
        "        linear_output = np.dot(X, self.weights) + self.bias\n",
        "        # Menghitung output linear untuk data baru.\n",
        "        y_predicted = [self._step_function(output) for output in linear_output]\n",
        "        # Menerapkan fungsi aktivasi pada setiap output linear.\n",
        "        return np.array(y_predicted)\n",
        "        # Mengembalikan hasil prediksi dalam bentuk array NumPy."
      ]
    },
    {
      "cell_type": "markdown",
      "source": [
        "### 2. Persiapan Data dan Inisialisasi Model\n",
        "Cell kedua ini akan menyiapkan data latih untuk gerbang logika AND dan menginisialisasi objek dari kelas Perceptron."
      ],
      "metadata": {
        "id": "xyKZO63oi4pm"
      }
    },
    {
      "cell_type": "code",
      "source": [
        "# Cell 2: Persiapan data dan inisialisasi model\n",
        "# Data latih untuk gerbang logika AND\n",
        "X_train = np.array([[0, 0], [0, 1], [1, 0], [1, 1]])\n",
        "# Menyiapkan input (X_train) untuk gerbang AND. Setiap baris adalah satu kombinasi input.\n",
        "y_train = np.array([0, 0, 0, 1])\n",
        "# Menyiapkan output yang sesuai (y_train) untuk setiap kombinasi input gerbang AND.\n",
        "# Output untuk [1, 1] adalah 1, dan untuk yang lainnya adalah 0.\n",
        "\n",
        "# Inisialisasi model Perceptron\n",
        "p = Perceptron(learning_rate=0.1, n_iterations=10)\n",
        "# Membuat objek Perceptron dengan learning rate 0.1 dan 10 iterasi."
      ],
      "metadata": {
        "id": "PvJLbYq_i_ag"
      },
      "execution_count": null,
      "outputs": []
    },
    {
      "cell_type": "markdown",
      "source": [
        "### 3. Melatih Model dan Menampilkan Hasil\n",
        "Cell terakhir ini akan menjalankan metode fit() untuk melatih model, kemudian menggunakan metode predict() untuk menampilkan hasil prediksi dan bobot serta bias yang telah dipelajari."
      ],
      "metadata": {
        "id": "Mk863T_ijEzH"
      }
    },
    {
      "cell_type": "code",
      "source": [
        "# Cell 3: Melatih dan menampilkan hasil\n",
        "# Melatih model menggunakan data latih\n",
        "p.fit(X_train, y_train)\n",
        "\n",
        "print(\"Hasil Prediksi untuk gerbang AND:\")\n",
        "# Loop untuk menampilkan hasil prediksi satu per satu\n",
        "for input_data, true_output in zip(X_train, y_train):\n",
        "    prediction = p.predict(np.array([input_data]))\n",
        "    # Melakukan prediksi untuk setiap baris input.\n",
        "    # np.array([input_data]) digunakan agar predict() menerima input dalam bentuk 2D array (matriks)\n",
        "    # seperti yang diharapkan oleh np.dot.\n",
        "    print(f\"Input: {input_data}, Output Sebenarnya: {true_output}, Prediksi: {prediction[0]}\")\n",
        "    # Menampilkan input, output yang seharusnya, dan hasil prediksi.\n",
        "\n",
        "print(\"\\nBobot dan Bias yang Dilatih:\")\n",
        "# Menampilkan bobot (weights) dan bias yang telah dioptimalkan oleh algoritma.\n",
        "print(f\"Weights: {p.weights}\")\n",
        "print(f\"Bias: {p.bias}\")"
      ],
      "metadata": {
        "colab": {
          "base_uri": "https://localhost:8080/"
        },
        "id": "LDkxAcZrjLil",
        "outputId": "bb9bd5b2-fd8e-4896-829f-2366db98e6fc"
      },
      "execution_count": null,
      "outputs": [
        {
          "output_type": "stream",
          "name": "stdout",
          "text": [
            "Hasil Prediksi untuk gerbang AND:\n",
            "Input: [0 0], Output Sebenarnya: 0, Prediksi: 0\n",
            "Input: [0 1], Output Sebenarnya: 0, Prediksi: 0\n",
            "Input: [1 0], Output Sebenarnya: 0, Prediksi: 0\n",
            "Input: [1 1], Output Sebenarnya: 1, Prediksi: 1\n",
            "\n",
            "Bobot dan Bias yang Dilatih:\n",
            "Weights: [0.2 0.1]\n",
            "Bias: -0.20000000000000004\n"
          ]
        }
      ]
    }
  ]
}